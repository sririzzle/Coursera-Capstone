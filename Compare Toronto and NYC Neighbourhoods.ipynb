{
    "cells": [
        {
            "cell_type": "markdown",
            "metadata": {
                "collapsed": true
            },
            "source": "Comparing Toronto and NYC Neighbourhoods\n\nIntroduction/Business Problem:\n\nI am comparing  certain neighbourhoods in Toronto and New York to see what types of venues there are and the frequency  of venues between the cities. I will visualize the data relating to locations across both cities neighborhoods and analyze the frequency and types of venues  to see how they are similar and different.  I will use venue data, location data, bourough data,and neighborhood data to compare the cities."
        }
    ],
    "metadata": {
        "kernelspec": {
            "display_name": "Python 3.6",
            "language": "python",
            "name": "python3"
        },
        "language_info": {
            "codemirror_mode": {
                "name": "ipython",
                "version": 3
            },
            "file_extension": ".py",
            "mimetype": "text/x-python",
            "name": "python",
            "nbconvert_exporter": "python",
            "pygments_lexer": "ipython3",
            "version": "3.6.9"
        }
    },
    "nbformat": 4,
    "nbformat_minor": 1
}